{
 "cells": [
  {
   "cell_type": "code",
   "execution_count": 3,
   "id": "c0b8c464-d90d-4ee1-b973-509a06efb5dd",
   "metadata": {},
   "outputs": [],
   "source": [
    "from typing import List\n",
    "\n",
    "import numpy as np\n",
    "import sounddevice as sd\n",
    "\n",
    "from pyquist import AudioProcessor, AudioBuffer\n",
    "\n",
    "class AdditiveSynthesizer(AudioProcessor):\n",
    "    def __init__(self, *, pitches: List[float], amplitudes: List[float]):\n",
    "        self._pitches = pitches\n",
    "        self._amplitudes = np.array(amplitudes)\n",
    "\n",
    "    def prepare_to_play(self, sample_rate: float, block_size: int):\n",
    "        super().prepare_to_play(sample_rate, block_size)\n",
    "        self._time = 0.0\n",
    "        self._block_length_seconds = block_size / sample_rate\n",
    "        self._frequencies = np.array([440.0 * 2**((p - 69) / 12.0) for p in self._pitches])\n",
    "\n",
    "    def process_block(self, buffer: AudioBuffer):\n",
    "        t = self._time + (np.arange(self.block_size) / self.sample_rate)\n",
    "        buffer[:] = np.sum(\n",
    "            self._amplitudes[:, np.newaxis] * np.sin(2.0 * np.pi * t[np.newaxis] * self._frequencies[:, np.newaxis]), axis=0)\n",
    "        self._time += self._block_length_seconds\n",
    "\n",
    "\n",
    "# TODO: AudioContext? Base on Tone.JS?\n",
    "\n",
    "SAMPLE_RATE = 44100\n",
    "BLOCK_SIZE = 512\n",
    "\n",
    "synth = AdditiveSynthesizer(pitches=[60, 64, 67], amplitudes=[0.5, 0.4, 0.3])\n",
    "synth.prepare_to_play(SAMPLE_RATE, BLOCK_SIZE)\n",
    "\n",
    "def audio_callback(outdata, frames, time, status):\n",
    "    buffer = AudioBuffer(num_channels=1, num_samples=BLOCK_SIZE, array=outdata.swapaxes(0, 1))\n",
    "    synth.process_block(buffer)\n",
    "\n",
    "# Start the audio stream with the callback function\n",
    "with sd.OutputStream(samplerate=SAMPLE_RATE, blocksize=BLOCK_SIZE, channels=1, callback=audio_callback):\n",
    "    sd.sleep(1000)  # Run the stream for 10 seconds (adjust as needed)"
   ]
  },
  {
   "cell_type": "code",
   "execution_count": null,
   "id": "0c10f6f5",
   "metadata": {},
   "outputs": [],
   "source": [
    "from pyquist import Audio\n",
    "from pyquist.notebook import play\n",
    "\n",
    "url = \"https://github.com/librosa/data/raw/refs/heads/main/audio/198-209-0000.hq.ogg\"\n",
    "\n",
    "audio = Audio.from_url(url)\n",
    "audio.normalize(peak_dbfs=-18.0)\n",
    "print(audio.peak_amplitude)\n",
    "play(audio, normalize=True)\n",
    "play(audio, normalize=False)"
   ]
  }
 ],
 "metadata": {
  "kernelspec": {
   "display_name": "venv",
   "language": "python",
   "name": "python3"
  },
  "language_info": {
   "codemirror_mode": {
    "name": "ipython",
    "version": 3
   },
   "file_extension": ".py",
   "mimetype": "text/x-python",
   "name": "python",
   "nbconvert_exporter": "python",
   "pygments_lexer": "ipython3",
   "version": "3.12.6"
  }
 },
 "nbformat": 4,
 "nbformat_minor": 5
}
